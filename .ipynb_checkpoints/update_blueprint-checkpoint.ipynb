{
 "cells": [
  {
   "cell_type": "code",
   "execution_count": 40,
   "metadata": {
    "collapsed": true
   },
   "outputs": [],
   "source": [
    "import pandas as pd\n",
    "import os\n",
    "from datetime import datetime, timedelta"
   ]
  },
  {
   "cell_type": "code",
   "execution_count": 2,
   "metadata": {},
   "outputs": [
    {
     "data": {
      "text/plain": [
       "'C:\\\\Users\\\\lmhoo\\\\Desktop\\\\gobble'"
      ]
     },
     "execution_count": 2,
     "metadata": {},
     "output_type": "execute_result"
    }
   ],
   "source": [
    "os.getcwd()"
   ]
  },
  {
   "cell_type": "code",
   "execution_count": 91,
   "metadata": {
    "collapsed": true
   },
   "outputs": [],
   "source": [
    "def check_last_day(market, datatype):\n",
    "    os.chdir('./data/stock-{}/{}-{}'.format(datatype, market, datatype))\n",
    "    try:\n",
    "        df = pd.read_csv('./005930.csv', sep=',')\n",
    "    except UnicodeError:\n",
    "        df = pd.read_csv('./005930.csv', sep=',', encoding='CP949')\n",
    "    os.chdir('../../..')\n",
    "    recent_date = df['date'][-1:].values[0]\n",
    "    return recent_date"
   ]
  },
  {
   "cell_type": "code",
   "execution_count": 92,
   "metadata": {},
   "outputs": [
    {
     "data": {
      "text/plain": [
       "20180302"
      ]
     },
     "execution_count": 92,
     "metadata": {},
     "output_type": "execute_result"
    }
   ],
   "source": [
    "check_last_day('kospi','short')"
   ]
  },
  {
   "cell_type": "code",
   "execution_count": 58,
   "metadata": {
    "collapsed": true
   },
   "outputs": [],
   "source": [
    "def add_data_log():\n",
    "    f = open('./daily-log/day-check.txt', 'a')\n",
    "    today = datetime.today().strftime('%Y%m%d')\n",
    "    f.write('\\n' + today)\n",
    "    f.close()"
   ]
  },
  {
   "cell_type": "code",
   "execution_count": 59,
   "metadata": {
    "collapsed": true
   },
   "outputs": [],
   "source": [
    "add_data_log()"
   ]
  },
  {
   "cell_type": "code",
   "execution_count": 70,
   "metadata": {
    "collapsed": true
   },
   "outputs": [],
   "source": [
    "def check_start_log():\n",
    "    f =  open('./daily-log/day-check.txt', 'r')\n",
    "    date = f.read()\n",
    "    date_list = date.split('\\n')\n",
    "    f.close()\n",
    "    week = ['mon', 'tue', 'wed', 'thu', 'fri', 'sat', 'sun']\n",
    "    last_date = datetime.strptime(date_list[-1], '%Y%m%d').date()\n",
    "    w = last_date.weekday()\n",
    "    if week[w] == 'fri':\n",
    "        start_date = last_date + timedelta(days=3)\n",
    "        start_date = start_date.strftime('%Y%m%d')\n",
    "    elif week[w] == 'sat':\n",
    "        start_date = last_date + timedelta(days=2)\n",
    "        start_date = start_date.strftime('%Y%m%d')\n",
    "    else:\n",
    "        start_date = last_date + timedelta(days=1)\n",
    "        start_date = start_date.strftime('%Y%m%d')\n",
    "    return start_date"
   ]
  },
  {
   "cell_type": "code",
   "execution_count": 71,
   "metadata": {},
   "outputs": [
    {
     "data": {
      "text/plain": [
       "'20180215'"
      ]
     },
     "execution_count": 71,
     "metadata": {},
     "output_type": "execute_result"
    }
   ],
   "source": [
    "check_start_log()"
   ]
  },
  {
   "cell_type": "code",
   "execution_count": 75,
   "metadata": {
    "collapsed": true
   },
   "outputs": [],
   "source": [
    "def check_last_day(market, datatype):\n",
    "    os.chdir('./data/stock-{}/{}-{}'.format(datatype, market, datatype))\n",
    "    try:\n",
    "        df = pd.read_csv('./005930.csv', sep=',')\n",
    "    except UnicodeError:\n",
    "        df = pd.read_csv('./005930.csv', sep=',', encoding='CP949')\n",
    "    os.chdir('../../..')\n",
    "    week = ['mon', 'tue', 'wed', 'thu', 'fri', 'sat', 'sun']\n",
    "    if datatype == 'short':\n",
    "        last_date = datetime.strptime(df['date'][-1:].values[0], '%Y%m%d').date()\n",
    "    else:\n",
    "        last_date = datetime.strptime(df['date'][0].values[0], '%Y%m%d').date()\n",
    "    w = last_date.weekday()\n",
    "    if week[w] == 'fri':\n",
    "        start_date = last_date + timedelta(days=3)\n",
    "        start_date = start_date.strftime('%Y%m%d')\n",
    "    elif week[w] == 'sat':\n",
    "        start_date = last_date + timedelta(days=2)\n",
    "        start_date = start_date.strftime('%Y%m%d')\n",
    "    else:\n",
    "        start_date = last_date + timedelta(days=1)\n",
    "        start_date = start_date.strftime('%Y%m%d')"
   ]
  },
  {
   "cell_type": "code",
   "execution_count": 76,
   "metadata": {
    "scrolled": true
   },
   "outputs": [
    {
     "ename": "TypeError",
     "evalue": "strptime() argument 1 must be str, not numpy.int64",
     "output_type": "error",
     "traceback": [
      "\u001b[1;31m---------------------------------------------------------------------------\u001b[0m",
      "\u001b[1;31mTypeError\u001b[0m                                 Traceback (most recent call last)",
      "\u001b[1;32m<ipython-input-76-4cb01a2dd39e>\u001b[0m in \u001b[0;36m<module>\u001b[1;34m()\u001b[0m\n\u001b[1;32m----> 1\u001b[1;33m \u001b[0mcheck_last_day\u001b[0m\u001b[1;33m(\u001b[0m\u001b[1;34m'kospi'\u001b[0m\u001b[1;33m,\u001b[0m \u001b[1;34m'short'\u001b[0m\u001b[1;33m)\u001b[0m\u001b[1;33m\u001b[0m\u001b[0m\n\u001b[0m",
      "\u001b[1;32m<ipython-input-75-a22472e30c47>\u001b[0m in \u001b[0;36mcheck_last_day\u001b[1;34m(market, datatype)\u001b[0m\n\u001b[0;32m      7\u001b[0m     \u001b[0mos\u001b[0m\u001b[1;33m.\u001b[0m\u001b[0mchdir\u001b[0m\u001b[1;33m(\u001b[0m\u001b[1;34m'../../..'\u001b[0m\u001b[1;33m)\u001b[0m\u001b[1;33m\u001b[0m\u001b[0m\n\u001b[0;32m      8\u001b[0m     \u001b[0mweek\u001b[0m \u001b[1;33m=\u001b[0m \u001b[1;33m[\u001b[0m\u001b[1;34m'mon'\u001b[0m\u001b[1;33m,\u001b[0m \u001b[1;34m'tue'\u001b[0m\u001b[1;33m,\u001b[0m \u001b[1;34m'wed'\u001b[0m\u001b[1;33m,\u001b[0m \u001b[1;34m'thu'\u001b[0m\u001b[1;33m,\u001b[0m \u001b[1;34m'fri'\u001b[0m\u001b[1;33m,\u001b[0m \u001b[1;34m'sat'\u001b[0m\u001b[1;33m,\u001b[0m \u001b[1;34m'sun'\u001b[0m\u001b[1;33m]\u001b[0m\u001b[1;33m\u001b[0m\u001b[0m\n\u001b[1;32m----> 9\u001b[1;33m     \u001b[0mlast_date\u001b[0m \u001b[1;33m=\u001b[0m \u001b[0mdatetime\u001b[0m\u001b[1;33m.\u001b[0m\u001b[0mstrptime\u001b[0m\u001b[1;33m(\u001b[0m\u001b[0mdf\u001b[0m\u001b[1;33m[\u001b[0m\u001b[1;34m'date'\u001b[0m\u001b[1;33m]\u001b[0m\u001b[1;33m[\u001b[0m\u001b[1;36m0\u001b[0m\u001b[1;33m]\u001b[0m\u001b[1;33m,\u001b[0m \u001b[1;34m'%Y%m%d'\u001b[0m\u001b[1;33m)\u001b[0m\u001b[1;33m.\u001b[0m\u001b[0mdate\u001b[0m\u001b[1;33m(\u001b[0m\u001b[1;33m)\u001b[0m\u001b[1;33m\u001b[0m\u001b[0m\n\u001b[0m\u001b[0;32m     10\u001b[0m     \u001b[0mw\u001b[0m \u001b[1;33m=\u001b[0m \u001b[0mlast_date\u001b[0m\u001b[1;33m.\u001b[0m\u001b[0mweekday\u001b[0m\u001b[1;33m(\u001b[0m\u001b[1;33m)\u001b[0m\u001b[1;33m\u001b[0m\u001b[0m\n\u001b[0;32m     11\u001b[0m     \u001b[1;32mif\u001b[0m \u001b[0mweek\u001b[0m\u001b[1;33m[\u001b[0m\u001b[0mw\u001b[0m\u001b[1;33m]\u001b[0m \u001b[1;33m==\u001b[0m \u001b[1;34m'fri'\u001b[0m\u001b[1;33m:\u001b[0m\u001b[1;33m\u001b[0m\u001b[0m\n",
      "\u001b[1;31mTypeError\u001b[0m: strptime() argument 1 must be str, not numpy.int64"
     ]
    }
   ],
   "source": [
    "check_last_day('kospi', 'short')"
   ]
  }
 ],
 "metadata": {
  "kernelspec": {
   "display_name": "Python 3",
   "language": "python",
   "name": "python3"
  },
  "language_info": {
   "codemirror_mode": {
    "name": "ipython",
    "version": 3
   },
   "file_extension": ".py",
   "mimetype": "text/x-python",
   "name": "python",
   "nbconvert_exporter": "python",
   "pygments_lexer": "ipython3",
   "version": "3.6.1"
  }
 },
 "nbformat": 4,
 "nbformat_minor": 2
}
