{
 "cells": [
  {
   "cell_type": "code",
   "execution_count": 40,
   "metadata": {
    "collapsed": true
   },
   "outputs": [],
   "source": [
    "import pandas as pd\n",
    "import os\n",
    "from datetime import datetime, timedelta"
   ]
  },
  {
   "cell_type": "code",
   "execution_count": 2,
   "metadata": {},
   "outputs": [
    {
     "data": {
      "text/plain": [
       "'C:\\\\Users\\\\lmhoo\\\\Desktop\\\\gobble'"
      ]
     },
     "execution_count": 2,
     "metadata": {},
     "output_type": "execute_result"
    }
   ],
   "source": [
    "os.getcwd()"
   ]
  },
  {
   "cell_type": "code",
   "execution_count": 106,
   "metadata": {
    "collapsed": true
   },
   "outputs": [],
   "source": [
    "def check_last_day(market, datatype):\n",
    "    os.chdir('./data/stock-{}/{}-{}'.format(datatype, market, datatype))\n",
    "    try:\n",
    "        df = pd.read_csv('./005930.csv', sep=',')\n",
    "    except UnicodeError:\n",
    "        df = pd.read_csv('./005930.csv', sep=',', encoding='CP949')\n",
    "    os.chdir('../../..')\n",
    "    recent_date = df['date'][0]\n",
    "    return recent_date"
   ]
  },
  {
   "cell_type": "code",
   "execution_count": 107,
   "metadata": {},
   "outputs": [
    {
     "data": {
      "text/plain": [
       "20180214"
      ]
     },
     "execution_count": 107,
     "metadata": {},
     "output_type": "execute_result"
    }
   ],
   "source": [
    "check_last_day('kospi','buy')"
   ]
  },
  {
   "cell_type": "code",
   "execution_count": 58,
   "metadata": {
    "collapsed": true
   },
   "outputs": [],
   "source": [
    "def add_data_log():\n",
    "    f = open('./daily-log/day-check.txt', 'a')\n",
    "    today = datetime.today().strftime('%Y%m%d')\n",
    "    f.write('\\n' + today)\n",
    "    f.close()"
   ]
  },
  {
   "cell_type": "code",
   "execution_count": 59,
   "metadata": {
    "collapsed": true
   },
   "outputs": [],
   "source": [
    "add_data_log()"
   ]
  },
  {
   "cell_type": "code",
   "execution_count": 70,
   "metadata": {
    "collapsed": true
   },
   "outputs": [],
   "source": [
    "def check_start_log():\n",
    "    f =  open('./daily-log/day-check.txt', 'r')\n",
    "    date = f.read()\n",
    "    date_list = date.split('\\n')\n",
    "    f.close()\n",
    "    week = ['mon', 'tue', 'wed', 'thu', 'fri', 'sat', 'sun']\n",
    "    last_date = datetime.strptime(date_list[-1], '%Y%m%d').date()\n",
    "    w = last_date.weekday()\n",
    "    if week[w] == 'fri':\n",
    "        start_date = last_date + timedelta(days=3)\n",
    "        start_date = start_date.strftime('%Y%m%d')\n",
    "    elif week[w] == 'sat':\n",
    "        start_date = last_date + timedelta(days=2)\n",
    "        start_date = start_date.strftime('%Y%m%d')\n",
    "    else:\n",
    "        start_date = last_date + timedelta(days=1)\n",
    "        start_date = start_date.strftime('%Y%m%d')\n",
    "    return start_date"
   ]
  },
  {
   "cell_type": "code",
   "execution_count": 71,
   "metadata": {},
   "outputs": [
    {
     "data": {
      "text/plain": [
       "'20180215'"
      ]
     },
     "execution_count": 71,
     "metadata": {},
     "output_type": "execute_result"
    }
   ],
   "source": [
    "check_start_log()"
   ]
  },
  {
   "cell_type": "code",
   "execution_count": 108,
   "metadata": {
    "collapsed": true
   },
   "outputs": [],
   "source": [
    "def check_last_day(market, datatype):\n",
    "    os.chdir('./data/stock-{}/{}-{}'.format(datatype, market, datatype))\n",
    "    try:\n",
    "        df = pd.read_csv('./005930.csv', sep=',')\n",
    "    except UnicodeError:\n",
    "        df = pd.read_csv('./005930.csv', sep=',', encoding='CP949')\n",
    "    os.chdir('../../..')\n",
    "    week = ['mon', 'tue', 'wed', 'thu', 'fri', 'sat', 'sun']\n",
    "    if datatype == 'short':\n",
    "        last_date = datetime.strptime(str(df['date'][-1:].values[0]), '%Y%m%d').date()\n",
    "    else:\n",
    "        last_date = datetime.strptime(str(df['date'][0]), '%Y%m%d').date()\n",
    "    w = last_date.weekday()\n",
    "    if week[w] == 'fri':\n",
    "        start_date = last_date + timedelta(days=3)\n",
    "        start_date = start_date.strftime('%Y%m%d')\n",
    "    elif week[w] == 'sat':\n",
    "        start_date = last_date + timedelta(days=2)\n",
    "        start_date = start_date.strftime('%Y%m%d')\n",
    "    else:\n",
    "        start_date = last_date + timedelta(days=1)\n",
    "        start_date = start_date.strftime('%Y%m%d')\n",
    "    return start_date"
   ]
  },
  {
   "cell_type": "code",
   "execution_count": 109,
   "metadata": {
    "scrolled": true
   },
   "outputs": [
    {
     "data": {
      "text/plain": [
       "'20180215'"
      ]
     },
     "execution_count": 109,
     "metadata": {},
     "output_type": "execute_result"
    }
   ],
   "source": [
    "check_last_day('kospi', 'buy')"
   ]
  }
 ],
 "metadata": {
  "kernelspec": {
   "display_name": "Python 3",
   "language": "python",
   "name": "python3"
  },
  "language_info": {
   "codemirror_mode": {
    "name": "ipython",
    "version": 3
   },
   "file_extension": ".py",
   "mimetype": "text/x-python",
   "name": "python",
   "nbconvert_exporter": "python",
   "pygments_lexer": "ipython3",
   "version": "3.6.1"
  }
 },
 "nbformat": 4,
 "nbformat_minor": 2
}
